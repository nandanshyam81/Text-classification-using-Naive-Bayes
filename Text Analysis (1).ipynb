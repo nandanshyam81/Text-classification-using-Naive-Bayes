{
 "cells": [
  {
   "cell_type": "markdown",
   "id": "bbb93fc8",
   "metadata": {},
   "source": [
    "# ***Performing text analysis using Naive Bayes Classification method***\n",
    "                                                                                                 By- SHYAM NANDAN\n",
    "                                                                                                 2021MSBDA039"
   ]
  },
  {
   "cell_type": "code",
   "execution_count": 68,
   "id": "b466bba2",
   "metadata": {},
   "outputs": [],
   "source": [
    "import docx"
   ]
  },
  {
   "cell_type": "code",
   "execution_count": 37,
   "id": "eee78f68",
   "metadata": {},
   "outputs": [],
   "source": [
    "from docx import Document"
   ]
  },
  {
   "cell_type": "code",
   "execution_count": 38,
   "id": "c96597da",
   "metadata": {},
   "outputs": [
    {
     "name": "stdout",
     "output_type": "stream",
     "text": [
      "Requirement already satisfied: python-docx in c:\\users\\shyam\\anaconda3\\lib\\site-packages (0.8.11)\n",
      "Requirement already satisfied: lxml>=2.3.2 in c:\\users\\shyam\\anaconda3\\lib\\site-packages (from python-docx) (4.6.3)\n",
      "Note: you may need to restart the kernel to use updated packages.\n"
     ]
    }
   ],
   "source": [
    "pip install python-docx"
   ]
  },
  {
   "cell_type": "code",
   "execution_count": 39,
   "id": "9640e5ef",
   "metadata": {},
   "outputs": [],
   "source": [
    "import os"
   ]
  },
  {
   "cell_type": "code",
   "execution_count": 40,
   "id": "36c3cb88",
   "metadata": {},
   "outputs": [],
   "source": [
    "cwd=os.getcwd()"
   ]
  },
  {
   "cell_type": "code",
   "execution_count": 41,
   "id": "a672da75",
   "metadata": {},
   "outputs": [
    {
     "data": {
      "text/plain": [
       "'C:\\\\Users\\\\SHYAM'"
      ]
     },
     "execution_count": 41,
     "metadata": {},
     "output_type": "execute_result"
    }
   ],
   "source": [
    "cwd"
   ]
  },
  {
   "cell_type": "code",
   "execution_count": 42,
   "id": "e94933b3",
   "metadata": {},
   "outputs": [],
   "source": [
    "\n",
    "from collections import Counter\n",
    "def count_words(x,freq):\n",
    "    skip_symbols=[\".\",\", \",\":\",\";\",\"'\",'\"',]\n",
    "\n",
    "    for sy in skip_symbols:\n",
    "        x=list(map(lambda x: x.replace(sy,\"\"),x))\n",
    "    count={}\n",
    "    for element in x:\n",
    "        if element in count:\n",
    "            count[element]+=1\n",
    "        else:\n",
    "            count[element]=1\n",
    "    freqx=[]    \n",
    "    for element in freq:      \n",
    "        if element in count:\n",
    "            freqx1=count[element]\n",
    "        else:\n",
    "            freqx1=0\n",
    "        freqx.append(freqx1)    \n",
    "    return freqx\n",
    "\n",
    "#reading the document and replacing some special characters with none.\n",
    "def read_document(r_d):\n",
    "    doc=docx.Document(r_d)  \n",
    "    list1=[]\n",
    "    for p in doc.paragraphs:\n",
    "        list1.append(p.text)\n",
    "\n",
    "    s=str(\"\\n\".join(list1)) \n",
    "\n",
    "    s=s.lower()\n",
    "    s=s.replace(u'\\xa0',' ')\n",
    "    s=s.replace(u'\\n','')\n",
    "    s=s.replace(u', ',' ')\n",
    "    s=s.replace(u'(','')\n",
    "    s=s.replace(u')','')\n",
    "\n",
    "    y=s.split(\" \")\n",
    "    return y"
   ]
  },
  {
   "cell_type": "code",
   "execution_count": 43,
   "id": "c87ee085",
   "metadata": {},
   "outputs": [],
   "source": [
    "train_words=[\"author\",\"content\",\"ebook\",\"production\",\"script\",\"rating\"]"
   ]
  },
  {
   "cell_type": "code",
   "execution_count": 44,
   "id": "e6594bd7",
   "metadata": {},
   "outputs": [],
   "source": [
    "doc0=read_document('d0.docx')\n",
    "freq_doc0=count_words(doc0,train_words)\n",
    "\n",
    "doc1=read_document('d1.docx')\n",
    "freq_doc1=count_words(doc1,train_words)\n",
    "\n",
    "doc2=read_document('d2.docx')\n",
    "freq_doc2=count_words(doc2,train_words)\n",
    "\n",
    "doc3=read_document('d3.docx')\n",
    "freq_doc3=count_words(doc3,train_words)\n",
    "\n",
    "doc4=read_document('d4.docx')\n",
    "freq_doc4=count_words(doc4,train_words)\n",
    "\n",
    "doc5=read_document('d5.docx')\n",
    "freq_doc5=count_words(doc5,train_words)"
   ]
  },
  {
   "cell_type": "code",
   "execution_count": 45,
   "id": "595374f2",
   "metadata": {},
   "outputs": [
    {
     "name": "stdout",
     "output_type": "stream",
     "text": [
      "Occurance of author,content,ebook,production,script,rating in document 0 are [2, 1, 6, 0, 0, 1] respectively.\n"
     ]
    }
   ],
   "source": [
    "print(\"Occurance of author,content,ebook,production,script,rating in document 0 are\" ,freq_doc0,\"respectively.\")"
   ]
  },
  {
   "cell_type": "code",
   "execution_count": 46,
   "id": "d3690593",
   "metadata": {},
   "outputs": [
    {
     "name": "stdout",
     "output_type": "stream",
     "text": [
      "Occurance of author,content,ebook,production,script,rating in document 0 are [2, 2, 2, 0, 0, 1] respectively\n"
     ]
    }
   ],
   "source": [
    "print(\"Occurance of author,content,ebook,production,script,rating in document 0 are\",freq_doc1,\"respectively\")"
   ]
  },
  {
   "cell_type": "code",
   "execution_count": 47,
   "id": "569935ae",
   "metadata": {},
   "outputs": [
    {
     "name": "stdout",
     "output_type": "stream",
     "text": [
      "Occurance of author,content,ebook,production,script,rating in document 0 are [1, 3, 3, 0, 1, 0] respectively\n"
     ]
    }
   ],
   "source": [
    "print(\"Occurance of author,content,ebook,production,script,rating in document 0 are\",freq_doc2,\"respectively\")"
   ]
  },
  {
   "cell_type": "code",
   "execution_count": 48,
   "id": "d8ae1a35",
   "metadata": {},
   "outputs": [
    {
     "name": "stdout",
     "output_type": "stream",
     "text": [
      "Occurance of author,content,ebook,production,script,rating in document 0 are [0, 2, 0, 1, 2, 1] respectively\n"
     ]
    }
   ],
   "source": [
    "print(\"Occurance of author,content,ebook,production,script,rating in document 0 are\",freq_doc3,\"respectively\")"
   ]
  },
  {
   "cell_type": "code",
   "execution_count": 49,
   "id": "968ea0b9",
   "metadata": {},
   "outputs": [
    {
     "name": "stdout",
     "output_type": "stream",
     "text": [
      "Occurance of author,content,ebook,production,script,rating in document 0 are [1, 1, 0, 1, 4, 2] respectively\n"
     ]
    }
   ],
   "source": [
    "print(\"Occurance of author,content,ebook,production,script,rating in document 0 are\",freq_doc4,\"respectively\")"
   ]
  },
  {
   "cell_type": "code",
   "execution_count": 50,
   "id": "c71548af",
   "metadata": {},
   "outputs": [
    {
     "name": "stdout",
     "output_type": "stream",
     "text": [
      "Occurance of author,content,ebook,production,script,rating in document 0 are [0, 0, 0, 1, 3, 2] respectively\n"
     ]
    }
   ],
   "source": [
    "print(\"Occurance of author,content,ebook,production,script,rating in document 0 are\",freq_doc5,\"respectively\")"
   ]
  },
  {
   "cell_type": "markdown",
   "id": "7cd8b07f",
   "metadata": {},
   "source": [
    "# Naive bayes classification, classes are Books and Movies"
   ]
  },
  {
   "cell_type": "code",
   "execution_count": 51,
   "id": "172c8063",
   "metadata": {},
   "outputs": [
    {
     "data": {
      "text/plain": [
       "['author', 'content', 'ebook', 'production', 'script', 'rating']"
      ]
     },
     "execution_count": 51,
     "metadata": {},
     "output_type": "execute_result"
    }
   ],
   "source": [
    "train_words"
   ]
  },
  {
   "cell_type": "code",
   "execution_count": 52,
   "id": "1343b5aa",
   "metadata": {},
   "outputs": [],
   "source": [
    "import pandas as pd"
   ]
  },
  {
   "cell_type": "code",
   "execution_count": 53,
   "id": "82c4d6bd",
   "metadata": {},
   "outputs": [],
   "source": [
    "data_tbl=pd.read_excel(\"D:\\\\BIG DATA\\\\test_table.xlsx\")"
   ]
  },
  {
   "cell_type": "code",
   "execution_count": 54,
   "id": "1847bb1d",
   "metadata": {},
   "outputs": [],
   "source": [
    "data_tbl.index=['D0','D1','D2','D3','D4','D5']"
   ]
  },
  {
   "cell_type": "code",
   "execution_count": 55,
   "id": "5453e2a5",
   "metadata": {},
   "outputs": [
    {
     "data": {
      "text/html": [
       "<div>\n",
       "<style scoped>\n",
       "    .dataframe tbody tr th:only-of-type {\n",
       "        vertical-align: middle;\n",
       "    }\n",
       "\n",
       "    .dataframe tbody tr th {\n",
       "        vertical-align: top;\n",
       "    }\n",
       "\n",
       "    .dataframe thead th {\n",
       "        text-align: right;\n",
       "    }\n",
       "</style>\n",
       "<table border=\"1\" class=\"dataframe\">\n",
       "  <thead>\n",
       "    <tr style=\"text-align: right;\">\n",
       "      <th></th>\n",
       "      <th>author</th>\n",
       "      <th>content</th>\n",
       "      <th>ebook</th>\n",
       "      <th>production</th>\n",
       "      <th>script</th>\n",
       "      <th>rating</th>\n",
       "      <th>class</th>\n",
       "    </tr>\n",
       "  </thead>\n",
       "  <tbody>\n",
       "    <tr>\n",
       "      <th>D0</th>\n",
       "      <td>2</td>\n",
       "      <td>1</td>\n",
       "      <td>6</td>\n",
       "      <td>0</td>\n",
       "      <td>0</td>\n",
       "      <td>1</td>\n",
       "      <td>Books</td>\n",
       "    </tr>\n",
       "    <tr>\n",
       "      <th>D1</th>\n",
       "      <td>2</td>\n",
       "      <td>2</td>\n",
       "      <td>2</td>\n",
       "      <td>0</td>\n",
       "      <td>0</td>\n",
       "      <td>1</td>\n",
       "      <td>Books</td>\n",
       "    </tr>\n",
       "    <tr>\n",
       "      <th>D2</th>\n",
       "      <td>1</td>\n",
       "      <td>3</td>\n",
       "      <td>3</td>\n",
       "      <td>0</td>\n",
       "      <td>1</td>\n",
       "      <td>0</td>\n",
       "      <td>Books</td>\n",
       "    </tr>\n",
       "    <tr>\n",
       "      <th>D3</th>\n",
       "      <td>0</td>\n",
       "      <td>2</td>\n",
       "      <td>0</td>\n",
       "      <td>1</td>\n",
       "      <td>2</td>\n",
       "      <td>1</td>\n",
       "      <td>Movies</td>\n",
       "    </tr>\n",
       "    <tr>\n",
       "      <th>D4</th>\n",
       "      <td>1</td>\n",
       "      <td>1</td>\n",
       "      <td>0</td>\n",
       "      <td>1</td>\n",
       "      <td>4</td>\n",
       "      <td>2</td>\n",
       "      <td>Movies</td>\n",
       "    </tr>\n",
       "    <tr>\n",
       "      <th>D5</th>\n",
       "      <td>0</td>\n",
       "      <td>0</td>\n",
       "      <td>0</td>\n",
       "      <td>1</td>\n",
       "      <td>3</td>\n",
       "      <td>2</td>\n",
       "      <td>Movies</td>\n",
       "    </tr>\n",
       "  </tbody>\n",
       "</table>\n",
       "</div>"
      ],
      "text/plain": [
       "    author  content  ebook  production  script  rating   class\n",
       "D0       2        1      6           0       0       1   Books\n",
       "D1       2        2      2           0       0       1   Books\n",
       "D2       1        3      3           0       1       0   Books\n",
       "D3       0        2      0           1       2       1  Movies\n",
       "D4       1        1      0           1       4       2  Movies\n",
       "D5       0        0      0           1       3       2  Movies"
      ]
     },
     "execution_count": 55,
     "metadata": {},
     "output_type": "execute_result"
    }
   ],
   "source": [
    "data_tbl"
   ]
  },
  {
   "cell_type": "code",
   "execution_count": 56,
   "id": "013422d4",
   "metadata": {},
   "outputs": [
    {
     "name": "stdout",
     "output_type": "stream",
     "text": [
      "sum of all instace values in books class = 25\n",
      "sum of all instance values in movies class= 21\n"
     ]
    }
   ],
   "source": [
    "#sum of all instance values in books class\n",
    "sum_books=0\n",
    "for i in range(0,3):\n",
    "    for k in range(0,6):\n",
    "        sum_books=sum_books+data_tbl.iloc[i,k]\n",
    "        \n",
    "#sum of all instance values in movies class\n",
    "sum_movies=0\n",
    "for i in range(3,6):\n",
    "    for k in range(0,6):\n",
    "        sum_movies=sum_movies+data_tbl.iloc[i,k]\n",
    "        \n",
    "print(\"sum of all instace values in books class =\",sum_books)\n",
    "print(\"sum of all instance values in movies class=\",sum_movies)"
   ]
  },
  {
   "cell_type": "code",
   "execution_count": 57,
   "id": "3452cf07",
   "metadata": {},
   "outputs": [
    {
     "name": "stdout",
     "output_type": "stream",
     "text": [
      "Zero frequency problem occured in the table\n"
     ]
    }
   ],
   "source": [
    "sum_bok=0\n",
    "sum_mov=0\n",
    "for j in range(0,6):\n",
    "    for i in range(0,3):\n",
    "        sum_bok=sum_bok+data_tbl.iloc[i,j]\n",
    "   \n",
    "    for k in range(3,6):\n",
    "        sum_bok=sum_mov+data_tbl.iloc[k,j]\n",
    "       \n",
    "    if (sum_bok==0 or sum_mov==0):\n",
    "            print(\"Zero frequency problem occured in the table\")\n",
    "            break"
   ]
  },
  {
   "cell_type": "markdown",
   "id": "2aeeb181",
   "metadata": {},
   "source": [
    "# Laplace smoothing"
   ]
  },
  {
   "cell_type": "code",
   "execution_count": 58,
   "id": "727164b1",
   "metadata": {},
   "outputs": [
    {
     "name": "stdout",
     "output_type": "stream",
     "text": [
      "Number of rows in data frame = 6\n",
      "Number of columns in data frame = 7\n",
      "6\n"
     ]
    }
   ],
   "source": [
    "r,c=data_tbl.shape\n",
    "print(\"Number of rows in data frame =\",r)\n",
    "print(\"Number of columns in data frame =\",c)\n",
    "n_c=c-1\n",
    "print(n_c)"
   ]
  },
  {
   "cell_type": "code",
   "execution_count": 59,
   "id": "753a7489",
   "metadata": {},
   "outputs": [
    {
     "name": "stdout",
     "output_type": "stream",
     "text": [
      "probability( author /books) is 0.1935\n",
      " \n",
      "probability( author /movies) is 0.0741\n",
      " \n",
      "probability( content /books) is 0.2258\n",
      " \n",
      "probability( content /movies) is 0.1481\n",
      " \n",
      "probability( ebook /books) is 0.3871\n",
      " \n",
      "probability( ebook /movies) is 0.037\n",
      " \n",
      "probability( production /books) is 0.0323\n",
      " \n",
      "probability( production /movies) is 0.1481\n",
      " \n",
      "probability( script /books) is 0.0645\n",
      " \n",
      "probability( script /movies) is 0.3704\n",
      " \n",
      "probability( rating /books) is 0.0968\n",
      " \n",
      "probability( rating /movies) is 0.2222\n",
      " \n",
      "[0.1935, 0.2258, 0.3871, 0.0323, 0.0645, 0.0968]\n",
      "[0.0741, 0.1481, 0.037, 0.1481, 0.3704, 0.2222]\n"
     ]
    }
   ],
   "source": [
    "# applying laplace smoothing for the occurances in the table\n",
    "x=[]\n",
    "y=[]\n",
    "for j in range(0,6):\n",
    "    pr_book=0\n",
    "    pr_mov=0\n",
    "    \n",
    "    for i in range(0,3):\n",
    "        pr_book= pr_book+data_tbl.iloc[i,j]\n",
    "        prob_book_smoo=round(((pr_book+(n_c*1/n_c))/(sum_books+n_c)),4)\n",
    "    x.append(prob_book_smoo)\n",
    "    \n",
    "    for k in range(3,6):\n",
    "        pr_mov= pr_mov+data_tbl.iloc[k,j]\n",
    "        prob_mov_smoo=round(((pr_mov+(n_c*1/n_c))/(sum_movies+n_c)),4)\n",
    "    y.append(prob_mov_smoo)\n",
    "   \n",
    "    print(\"probability(\",train_words[j],\"/books) is\",prob_book_smoo)\n",
    "    print(\" \")\n",
    "    print(\"probability(\",train_words[j],\"/movies) is\",prob_mov_smoo)\n",
    "    print(\" \")\n",
    "print(x)\n",
    "print(y)\n"
   ]
  },
  {
   "cell_type": "markdown",
   "id": "5ce5d51f",
   "metadata": {},
   "source": [
    "## Classifying a text document"
   ]
  },
  {
   "cell_type": "code",
   "execution_count": 60,
   "id": "693915ee",
   "metadata": {},
   "outputs": [],
   "source": [
    "df=pd.read_excel(\"D:\\\\BIG DATA\\\\Test_Document.xlsx\")"
   ]
  },
  {
   "cell_type": "code",
   "execution_count": 61,
   "id": "2770cac2",
   "metadata": {},
   "outputs": [],
   "source": [
    "df.index=[\"DTest\"]"
   ]
  },
  {
   "cell_type": "code",
   "execution_count": 62,
   "id": "99ce5c4f",
   "metadata": {},
   "outputs": [],
   "source": [
    "h=df.iloc[0]"
   ]
  },
  {
   "cell_type": "code",
   "execution_count": 63,
   "id": "e032a502",
   "metadata": {},
   "outputs": [
    {
     "data": {
      "text/plain": [
       "author        3\n",
       "content       2\n",
       "ebook         1\n",
       "production    1\n",
       "script        2\n",
       "rating        1\n",
       "Name: DTest, dtype: int64"
      ]
     },
     "execution_count": 63,
     "metadata": {},
     "output_type": "execute_result"
    }
   ],
   "source": [
    "h"
   ]
  },
  {
   "cell_type": "code",
   "execution_count": 64,
   "id": "a7269527",
   "metadata": {},
   "outputs": [],
   "source": [
    "import numpy as np"
   ]
  },
  {
   "cell_type": "code",
   "execution_count": 65,
   "id": "3c1ace18",
   "metadata": {},
   "outputs": [
    {
     "name": "stdout",
     "output_type": "stream",
     "text": [
      "-0.301\n",
      "-2.14\n",
      "-1.2926\n",
      "-0.4122\n",
      "-1.4908\n",
      "-2.3809\n",
      "-1.0141\n",
      "Posterior probability p(books/w) -9.031600000000001\n"
     ]
    }
   ],
   "source": [
    "p_books_by_w=round(np.log10(0.5),4)\n",
    "print(p_books_by_w)\n",
    "for i in range(0,6):\n",
    "    j=round(np.log10(x[i]**h[i]),4)\n",
    "    print(j)\n",
    "    p_books_by_w=p_books_by_w+j\n",
    "print(\"Posterior probability p(books/w)\",p_books_by_w)"
   ]
  },
  {
   "cell_type": "code",
   "execution_count": 66,
   "id": "06d09cd8",
   "metadata": {},
   "outputs": [
    {
     "name": "stdout",
     "output_type": "stream",
     "text": [
      "Posterior probability p(movies/w) -9.1276\n"
     ]
    }
   ],
   "source": [
    "p_movies_by_w=round(np.log10(0.5),4)\n",
    "for i in range(0,6):\n",
    "    o=round(np.log10(y[i]**h[i]),4)\n",
    "    p_movies_by_w=p_movies_by_w+o\n",
    "print(\"Posterior probability p(movies/w)\",p_movies_by_w)"
   ]
  },
  {
   "cell_type": "code",
   "execution_count": 67,
   "id": "df309a30",
   "metadata": {},
   "outputs": [
    {
     "name": "stdout",
     "output_type": "stream",
     "text": [
      "The document Test_Document belongs to books class\n"
     ]
    }
   ],
   "source": [
    "if(p_books_by_w==p_movies_by_w):\n",
    "    print(\"The document can't be classified as both the classes' probability is same\")\n",
    "    \n",
    "elif p_books_by_w>p_movies_by_w:\n",
    "    print(\"The document Test_Document belongs to books class\")\n",
    "else:\n",
    "    print(\"The document Test_Document belongs to movies class\")\n",
    "    \n",
    "    \n",
    "    "
   ]
  },
  {
   "cell_type": "markdown",
   "id": "ab9e08ba",
   "metadata": {},
   "source": []
  },
  {
   "cell_type": "code",
   "execution_count": null,
   "id": "f6f05375",
   "metadata": {},
   "outputs": [],
   "source": []
  }
 ],
 "metadata": {
  "kernelspec": {
   "display_name": "Python 3 (ipykernel)",
   "language": "python",
   "name": "python3"
  },
  "language_info": {
   "codemirror_mode": {
    "name": "ipython",
    "version": 3
   },
   "file_extension": ".py",
   "mimetype": "text/x-python",
   "name": "python",
   "nbconvert_exporter": "python",
   "pygments_lexer": "ipython3",
   "version": "3.9.7"
  }
 },
 "nbformat": 4,
 "nbformat_minor": 5
}
